{
  "nbformat": 4,
  "nbformat_minor": 0,
  "metadata": {
    "colab": {
      "name": "D0221302.MuhRyanNurwangsah",
      "provenance": [],
      "collapsed_sections": [],
      "authorship_tag": "ABX9TyOHZLj0AO34n47SKxSm6Oi8",
      "include_colab_link": true
    },
    "kernelspec": {
      "name": "python3",
      "display_name": "Python 3"
    },
    "language_info": {
      "name": "python"
    }
  },
  "cells": [
    {
      "cell_type": "markdown",
      "metadata": {
        "id": "view-in-github",
        "colab_type": "text"
      },
      "source": [
        "<a href=\"https://colab.research.google.com/github/Ryanzz06/Tugas-ASD-1/blob/main/D0221302_MuhRyanNurwangsah.ipynb\" target=\"_parent\"><img src=\"https://colab.research.google.com/assets/colab-badge.svg\" alt=\"Open In Colab\"/></a>"
      ]
    },
    {
      "cell_type": "code",
      "execution_count": null,
      "metadata": {
        "colab": {
          "base_uri": "https://localhost:8080/"
        },
        "id": "kIEYA5L6YpBo",
        "outputId": "9e8db3af-30f0-42c4-8116-ff198dbecc56"
      },
      "outputs": [
        {
          "output_type": "stream",
          "name": "stdout",
          "text": [
            " urutan tangga meter\n",
            "  Kilometer (km)\n",
            "  Hektometer(hm)\n",
            "  Dekameter (dan)\n",
            "  Meter (m)\n",
            "  Desimeter (dm)\n",
            "  Centimeter (cm)\n",
            "  Milimeter (mm)\n",
            "masukkan angka : 4\n",
            "masukkan pangkat :2\n",
            "hasil operasinya adalah : 400\n"
          ]
        }
      ],
      "source": [
        "print(''' urutan tangga meter\n",
        "  Kilometer (km)\n",
        "  Hektometer(hm)\n",
        "  Dekameter (dan)\n",
        "  Meter (m)\n",
        "  Desimeter (dm)\n",
        "  Centimeter (cm)\n",
        "  Milimeter (mm)''')\n",
        "Angka_satuan = int (input(\"masukkan angka : \"))\n",
        "Pangkat = int (input(\"masukkan pangkat :\"))\n",
        "Hasil = Angka_satuan * 10**Pangkat\n",
        "print (\"hasil operasinya adalah : {}\".format(Hasil))"
      ]
    },
    {
      "cell_type": "code",
      "source": [
        ""
      ],
      "metadata": {
        "id": "JbZNb10MlA1a"
      },
      "execution_count": null,
      "outputs": []
    },
    {
      "cell_type": "code",
      "source": [
        "print(''' urutan tangga meter\n",
        "  Kilometer (km)\n",
        "  Hektometer(hm)\n",
        "  Dekameter (dan)\n",
        "  Meter (m)\n",
        "  Desimeter (dm)\n",
        "  Centimeter (cm)\n",
        "  Milimeter (mm)''')\n",
        "Angka_satuan = int (input(\"masukkan angka : \"))\n",
        "Pangkat = int (input(\"masukkan pangkat :\"))\n",
        "Menyederhanakan = 10**Pangkat\n",
        "Hasil = Angka_satuan / Menyederhanakan\n",
        "print (\"hasil operasinya adalah : {}\".format(Hasil))"
      ],
      "metadata": {
        "colab": {
          "base_uri": "https://localhost:8080/"
        },
        "id": "oXnxC2qLaV23",
        "outputId": "5a1a8e8a-3e21-445c-b93a-6da87a500fb2"
      },
      "execution_count": null,
      "outputs": [
        {
          "output_type": "stream",
          "name": "stdout",
          "text": [
            " urutan tangga meter\n",
            "  Kilometer (km)\n",
            "  Hektometer(hm)\n",
            "  Dekameter (dan)\n",
            "  Meter (m)\n",
            "  Desimeter (dm)\n",
            "  Centimeter (cm)\n",
            "  Milimeter (mm)\n",
            "masukkan angka : 400\n",
            "masukkan pangkat :3\n",
            "hasil operasinya adalah : 0.4\n"
          ]
        }
      ]
    },
    {
      "cell_type": "code",
      "source": [
        "for i in range (1,31) :\n",
        "  if i % 3==0 :\n",
        "    print (i,\"Mamuju\")\n",
        "  elif i % 5==0 :\n",
        "    print (i,\"citty\")\n",
        "  else :\n",
        "    print (i)"
      ],
      "metadata": {
        "colab": {
          "base_uri": "https://localhost:8080/"
        },
        "id": "TXblkF6ObDdd",
        "outputId": "f65404a5-0b7a-4365-a1ed-20af051e21b5"
      },
      "execution_count": null,
      "outputs": [
        {
          "output_type": "stream",
          "name": "stdout",
          "text": [
            "1\n",
            "2\n",
            "3 Mamuju\n",
            "4\n",
            "5 citty\n",
            "6 Mamuju\n",
            "7\n",
            "8\n",
            "9 Mamuju\n",
            "10 citty\n",
            "11\n",
            "12 Mamuju\n",
            "13\n",
            "14\n",
            "15 Mamuju\n",
            "16\n",
            "17\n",
            "18 Mamuju\n",
            "19\n",
            "20 citty\n",
            "21 Mamuju\n",
            "22\n",
            "23\n",
            "24 Mamuju\n",
            "25 citty\n",
            "26\n",
            "27 Mamuju\n",
            "28\n",
            "29\n",
            "30 Mamuju\n"
          ]
        }
      ]
    }
  ]
}